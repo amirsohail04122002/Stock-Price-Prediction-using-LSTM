{
 "cells": [
  {
   "cell_type": "markdown",
   "id": "d0ee58b1",
   "metadata": {},
   "source": [
    "#  Importing libraries."
   ]
  },
  {
   "cell_type": "code",
   "execution_count": 1,
   "id": "8309be5d",
   "metadata": {},
   "outputs": [],
   "source": [
    "import numpy as np\n",
    "import pandas as pd\n",
    "import matplotlib.pyplot as plt\n",
    "from sklearn.preprocessing import MinMaxScaler\n",
    "from tensorflow.keras.models import Sequential\n",
    "from tensorflow.keras.layers import LSTM,Dropout,Dense"
   ]
  },
  {
   "cell_type": "markdown",
   "id": "2c3e43da",
   "metadata": {},
   "source": [
    "# Reading our training data."
   ]
  },
  {
   "cell_type": "code",
   "execution_count": 2,
   "id": "f22f855e",
   "metadata": {},
   "outputs": [],
   "source": [
    "dataset_train = pd.read_csv(\"C:/Users/mdash/OneDrive/Desktop/Google_Stock_Price_Train.csv\")\n",
    "training_set = dataset_train.iloc[:, 1:2].values\n",
    "sc = MinMaxScaler(feature_range = (0, 1))\n",
    "training_set_scaled = sc.fit_transform(training_set)\n",
    "X_train = []\n",
    "y_train = []\n",
    "for i in range(60,1258):\n",
    "    X_train.append(training_set_scaled[i-60:i, 0])\n",
    "    y_train.append(training_set_scaled[i, 0])"
   ]
  },
  {
   "cell_type": "markdown",
   "id": "976e5646",
   "metadata": {},
   "source": [
    "# Getting our training data in shape."
   ]
  },
  {
   "cell_type": "code",
   "execution_count": 3,
   "id": "147d3829",
   "metadata": {},
   "outputs": [],
   "source": [
    "X_train, y_train = np.array(X_train), np.array(y_train)\n",
    "X_train = np.reshape(X_train, (X_train.shape[0], X_train.shape[1], 1))"
   ]
  },
  {
   "cell_type": "markdown",
   "id": "b9f315cf",
   "metadata": {},
   "source": [
    "# Creating the Stock Price Prediction model."
   ]
  },
  {
   "cell_type": "code",
   "execution_count": 4,
   "id": "9b3f2207",
   "metadata": {},
   "outputs": [
    {
     "name": "stdout",
     "output_type": "stream",
     "text": [
      "Model: \"sequential\"\n",
      "_________________________________________________________________\n",
      " Layer (type)                Output Shape              Param #   \n",
      "=================================================================\n",
      " lstm (LSTM)                 (None, 60, 50)            10400     \n",
      "                                                                 \n",
      " dropout (Dropout)           (None, 60, 50)            0         \n",
      "                                                                 \n",
      " lstm_1 (LSTM)               (None, 60, 50)            20200     \n",
      "                                                                 \n",
      " dropout_1 (Dropout)         (None, 60, 50)            0         \n",
      "                                                                 \n",
      " lstm_2 (LSTM)               (None, 60, 50)            20200     \n",
      "                                                                 \n",
      " dropout_2 (Dropout)         (None, 60, 50)            0         \n",
      "                                                                 \n",
      " lstm_3 (LSTM)               (None, 50)                20200     \n",
      "                                                                 \n",
      " dropout_3 (Dropout)         (None, 50)                0         \n",
      "                                                                 \n",
      " dense (Dense)               (None, 1)                 51        \n",
      "                                                                 \n",
      "=================================================================\n",
      "Total params: 71051 (277.54 KB)\n",
      "Trainable params: 71051 (277.54 KB)\n",
      "Non-trainable params: 0 (0.00 Byte)\n",
      "_________________________________________________________________\n",
      "None\n"
     ]
    }
   ],
   "source": [
    "regressor = Sequential()\n",
    "\n",
    "regressor.add(LSTM(units = 50, return_sequences = True, input_shape = (X_train.shape[1], 1)))\n",
    "regressor.add(Dropout(0.2))\n",
    "\n",
    "regressor.add(LSTM(units = 50, return_sequences = True))\n",
    "regressor.add(Dropout(0.2))\n",
    "\n",
    "regressor.add(LSTM(units = 50, return_sequences = True))\n",
    "regressor.add(Dropout(0.2))\n",
    "\n",
    "regressor.add(LSTM(units = 50))\n",
    "regressor.add(Dropout(0.2))\n",
    "\n",
    "regressor.add(Dense(units = 1))\n",
    "\n",
    "regressor.compile(optimizer = 'adam', loss = 'mean_squared_error')\n",
    "\n",
    "print(regressor.summary())"
   ]
  },
  {
   "cell_type": "markdown",
   "id": "9217b96e",
   "metadata": {},
   "source": [
    "# Training the Stock Price Prediction model."
   ]
  },
  {
   "cell_type": "code",
   "execution_count": 5,
   "id": "2385bc63",
   "metadata": {},
   "outputs": [
    {
     "name": "stdout",
     "output_type": "stream",
     "text": [
      "Epoch 1/100\n",
      "38/38 [==============================] - 12s 159ms/step - loss: 0.0395\n",
      "Epoch 2/100\n",
      "38/38 [==============================] - 6s 156ms/step - loss: 0.0060\n",
      "Epoch 3/100\n",
      "38/38 [==============================] - 6s 167ms/step - loss: 0.0057\n",
      "Epoch 4/100\n",
      "38/38 [==============================] - 6s 166ms/step - loss: 0.0052\n",
      "Epoch 5/100\n",
      "38/38 [==============================] - 6s 166ms/step - loss: 0.0048\n",
      "Epoch 6/100\n",
      "38/38 [==============================] - 6s 158ms/step - loss: 0.0045\n",
      "Epoch 7/100\n",
      "38/38 [==============================] - 6s 164ms/step - loss: 0.0048\n",
      "Epoch 8/100\n",
      "38/38 [==============================] - 7s 172ms/step - loss: 0.0049\n",
      "Epoch 9/100\n",
      "38/38 [==============================] - 7s 177ms/step - loss: 0.0048\n",
      "Epoch 10/100\n",
      "38/38 [==============================] - 6s 152ms/step - loss: 0.0045\n",
      "Epoch 11/100\n",
      "38/38 [==============================] - 6s 164ms/step - loss: 0.0042\n",
      "Epoch 12/100\n",
      "38/38 [==============================] - 7s 180ms/step - loss: 0.0046\n",
      "Epoch 13/100\n",
      "38/38 [==============================] - 7s 179ms/step - loss: 0.0043\n",
      "Epoch 14/100\n",
      "38/38 [==============================] - 7s 176ms/step - loss: 0.0037\n",
      "Epoch 15/100\n",
      "38/38 [==============================] - 6s 170ms/step - loss: 0.0035\n",
      "Epoch 16/100\n",
      "38/38 [==============================] - 7s 182ms/step - loss: 0.0040\n",
      "Epoch 17/100\n",
      "38/38 [==============================] - 7s 180ms/step - loss: 0.0036\n",
      "Epoch 18/100\n",
      "38/38 [==============================] - 7s 183ms/step - loss: 0.0037\n",
      "Epoch 19/100\n",
      "38/38 [==============================] - 7s 179ms/step - loss: 0.0038\n",
      "Epoch 20/100\n",
      "38/38 [==============================] - 7s 172ms/step - loss: 0.0042\n",
      "Epoch 21/100\n",
      "38/38 [==============================] - 7s 176ms/step - loss: 0.0036\n",
      "Epoch 22/100\n",
      "38/38 [==============================] - 7s 179ms/step - loss: 0.0039\n",
      "Epoch 23/100\n",
      "38/38 [==============================] - 6s 167ms/step - loss: 0.0033\n",
      "Epoch 24/100\n",
      "38/38 [==============================] - 6s 165ms/step - loss: 0.0031\n",
      "Epoch 25/100\n",
      "38/38 [==============================] - 6s 164ms/step - loss: 0.0030\n",
      "Epoch 26/100\n",
      "38/38 [==============================] - 6s 165ms/step - loss: 0.0033\n",
      "Epoch 27/100\n",
      "38/38 [==============================] - 6s 159ms/step - loss: 0.0034\n",
      "Epoch 28/100\n",
      "38/38 [==============================] - 6s 167ms/step - loss: 0.0030\n",
      "Epoch 29/100\n",
      "38/38 [==============================] - 6s 164ms/step - loss: 0.0033\n",
      "Epoch 30/100\n",
      "38/38 [==============================] - 6s 168ms/step - loss: 0.0035\n",
      "Epoch 31/100\n",
      "38/38 [==============================] - 6s 150ms/step - loss: 0.0028\n",
      "Epoch 32/100\n",
      "38/38 [==============================] - 6s 158ms/step - loss: 0.0033\n",
      "Epoch 33/100\n",
      "38/38 [==============================] - 6s 155ms/step - loss: 0.0028\n",
      "Epoch 34/100\n",
      "38/38 [==============================] - 6s 153ms/step - loss: 0.0029\n",
      "Epoch 35/100\n",
      "38/38 [==============================] - 5s 142ms/step - loss: 0.0028\n",
      "Epoch 36/100\n",
      "38/38 [==============================] - 6s 145ms/step - loss: 0.0030\n",
      "Epoch 37/100\n",
      "38/38 [==============================] - 5s 139ms/step - loss: 0.0027\n",
      "Epoch 38/100\n",
      "38/38 [==============================] - 5s 126ms/step - loss: 0.0027\n",
      "Epoch 39/100\n",
      "38/38 [==============================] - 5s 138ms/step - loss: 0.0025\n",
      "Epoch 40/100\n",
      "38/38 [==============================] - 5s 124ms/step - loss: 0.0025\n",
      "Epoch 41/100\n",
      "38/38 [==============================] - 5s 126ms/step - loss: 0.0025\n",
      "Epoch 42/100\n",
      "38/38 [==============================] - 5s 133ms/step - loss: 0.0024\n",
      "Epoch 43/100\n",
      "38/38 [==============================] - 5s 134ms/step - loss: 0.0024\n",
      "Epoch 44/100\n",
      "38/38 [==============================] - 5s 126ms/step - loss: 0.0023\n",
      "Epoch 45/100\n",
      "38/38 [==============================] - 6s 162ms/step - loss: 0.0025\n",
      "Epoch 46/100\n",
      "38/38 [==============================] - 6s 166ms/step - loss: 0.0025\n",
      "Epoch 47/100\n",
      "38/38 [==============================] - 6s 164ms/step - loss: 0.0024\n",
      "Epoch 48/100\n",
      "38/38 [==============================] - 6s 162ms/step - loss: 0.0023\n",
      "Epoch 49/100\n",
      "38/38 [==============================] - 6s 155ms/step - loss: 0.0024\n",
      "Epoch 50/100\n",
      "38/38 [==============================] - 6s 156ms/step - loss: 0.0025\n",
      "Epoch 51/100\n",
      "38/38 [==============================] - 6s 161ms/step - loss: 0.0025\n",
      "Epoch 52/100\n",
      "38/38 [==============================] - 6s 164ms/step - loss: 0.0022\n",
      "Epoch 53/100\n",
      "38/38 [==============================] - 6s 168ms/step - loss: 0.0024\n",
      "Epoch 54/100\n",
      "38/38 [==============================] - 6s 156ms/step - loss: 0.0022\n",
      "Epoch 55/100\n",
      "38/38 [==============================] - 6s 145ms/step - loss: 0.0021\n",
      "Epoch 56/100\n",
      "38/38 [==============================] - 5s 138ms/step - loss: 0.0022\n",
      "Epoch 57/100\n",
      "38/38 [==============================] - 5s 129ms/step - loss: 0.0024\n",
      "Epoch 58/100\n",
      "38/38 [==============================] - 5s 131ms/step - loss: 0.0022\n",
      "Epoch 59/100\n",
      "38/38 [==============================] - 5s 141ms/step - loss: 0.0020\n",
      "Epoch 60/100\n",
      "38/38 [==============================] - 6s 154ms/step - loss: 0.0021\n",
      "Epoch 61/100\n",
      "38/38 [==============================] - 6s 153ms/step - loss: 0.0021\n",
      "Epoch 62/100\n",
      "38/38 [==============================] - 6s 168ms/step - loss: 0.0020\n",
      "Epoch 63/100\n",
      "38/38 [==============================] - 7s 175ms/step - loss: 0.0019\n",
      "Epoch 64/100\n",
      "38/38 [==============================] - 6s 166ms/step - loss: 0.0021\n",
      "Epoch 65/100\n",
      "38/38 [==============================] - 6s 165ms/step - loss: 0.0019\n",
      "Epoch 66/100\n",
      "38/38 [==============================] - 6s 166ms/step - loss: 0.0020\n",
      "Epoch 67/100\n",
      "38/38 [==============================] - 6s 157ms/step - loss: 0.0018\n",
      "Epoch 68/100\n",
      "38/38 [==============================] - 6s 154ms/step - loss: 0.0022\n",
      "Epoch 69/100\n",
      "38/38 [==============================] - 6s 170ms/step - loss: 0.0020\n",
      "Epoch 70/100\n",
      "38/38 [==============================] - 6s 171ms/step - loss: 0.0017\n",
      "Epoch 71/100\n",
      "38/38 [==============================] - 6s 160ms/step - loss: 0.0018\n",
      "Epoch 72/100\n",
      "38/38 [==============================] - 6s 159ms/step - loss: 0.0020\n",
      "Epoch 73/100\n",
      "38/38 [==============================] - 6s 167ms/step - loss: 0.0017\n",
      "Epoch 74/100\n",
      "38/38 [==============================] - 7s 173ms/step - loss: 0.0018\n",
      "Epoch 75/100\n",
      "38/38 [==============================] - 7s 174ms/step - loss: 0.0018\n",
      "Epoch 76/100\n",
      "38/38 [==============================] - 7s 178ms/step - loss: 0.0015\n",
      "Epoch 77/100\n",
      "38/38 [==============================] - 6s 171ms/step - loss: 0.0019\n",
      "Epoch 78/100\n",
      "38/38 [==============================] - 6s 150ms/step - loss: 0.0017\n",
      "Epoch 79/100\n",
      "38/38 [==============================] - 6s 146ms/step - loss: 0.0017\n",
      "Epoch 80/100\n",
      "38/38 [==============================] - 6s 149ms/step - loss: 0.0019\n",
      "Epoch 81/100\n",
      "38/38 [==============================] - 5s 143ms/step - loss: 0.0016\n",
      "Epoch 82/100\n",
      "38/38 [==============================] - 6s 147ms/step - loss: 0.0018\n",
      "Epoch 83/100\n",
      "38/38 [==============================] - 6s 146ms/step - loss: 0.0017\n",
      "Epoch 84/100\n",
      "38/38 [==============================] - 6s 146ms/step - loss: 0.0016\n",
      "Epoch 85/100\n",
      "38/38 [==============================] - 5s 140ms/step - loss: 0.0017\n",
      "Epoch 86/100\n",
      "38/38 [==============================] - 5s 138ms/step - loss: 0.0015\n",
      "Epoch 87/100\n",
      "38/38 [==============================] - 5s 140ms/step - loss: 0.0014\n",
      "Epoch 88/100\n",
      "38/38 [==============================] - 5s 138ms/step - loss: 0.0017\n",
      "Epoch 89/100\n",
      "38/38 [==============================] - 5s 138ms/step - loss: 0.0016\n",
      "Epoch 90/100\n",
      "38/38 [==============================] - 5s 139ms/step - loss: 0.0015\n",
      "Epoch 91/100\n",
      "38/38 [==============================] - 5s 140ms/step - loss: 0.0015\n",
      "Epoch 92/100\n",
      "38/38 [==============================] - 5s 143ms/step - loss: 0.0016\n",
      "Epoch 93/100\n",
      "38/38 [==============================] - 5s 139ms/step - loss: 0.0015\n",
      "Epoch 94/100\n",
      "38/38 [==============================] - 5s 139ms/step - loss: 0.0015\n",
      "Epoch 95/100\n",
      "38/38 [==============================] - 5s 137ms/step - loss: 0.0014\n",
      "Epoch 96/100\n",
      "38/38 [==============================] - 5s 141ms/step - loss: 0.0015\n",
      "Epoch 97/100\n",
      "38/38 [==============================] - 5s 138ms/step - loss: 0.0016\n",
      "Epoch 98/100\n",
      "38/38 [==============================] - 5s 141ms/step - loss: 0.0016\n",
      "Epoch 99/100\n",
      "38/38 [==============================] - 5s 142ms/step - loss: 0.0015\n",
      "Epoch 100/100\n",
      "38/38 [==============================] - 5s 142ms/step - loss: 0.0015\n"
     ]
    },
    {
     "data": {
      "text/plain": [
       "<keras.src.callbacks.History at 0x1b7e27fd4c0>"
      ]
     },
     "execution_count": 5,
     "metadata": {},
     "output_type": "execute_result"
    }
   ],
   "source": [
    "regressor.fit(X_train, y_train, epochs = 100, batch_size = 32)"
   ]
  },
  {
   "cell_type": "markdown",
   "id": "df5876df",
   "metadata": {},
   "source": [
    "# Reading the test data."
   ]
  },
  {
   "cell_type": "code",
   "execution_count": 9,
   "id": "2e880cdc",
   "metadata": {},
   "outputs": [],
   "source": [
    "dataset_test = pd.read_csv(\"C:/Users/mdash/OneDrive/Desktop/Google_Stock_Price_Test.csv\")\n",
    "real_stock_price = dataset_test.iloc[:, 1:2].values"
   ]
  },
  {
   "cell_type": "markdown",
   "id": "f1609600",
   "metadata": {},
   "source": [
    "# Getting the Stock Price Predictions on test data"
   ]
  },
  {
   "cell_type": "code",
   "execution_count": 10,
   "id": "ca5a650a",
   "metadata": {},
   "outputs": [
    {
     "name": "stdout",
     "output_type": "stream",
     "text": [
      "1/1 [==============================] - 2s 2s/step\n"
     ]
    }
   ],
   "source": [
    "dataset_total = pd.concat((dataset_train['Open'], dataset_test['Open']), axis = 0)\n",
    "inputs = dataset_total[len(dataset_total) - len(dataset_test) - 60:].values\n",
    "\n",
    "inputs = inputs.reshape(-1,1)\n",
    "inputs = sc.transform(inputs)\n",
    "\n",
    "X_test = []\n",
    "\n",
    "for i in range(60, 80):\n",
    "    X_test.append(inputs[i-60:i, 0])\n",
    "\n",
    "X_test = np.array(X_test)\n",
    "X_test = np.reshape(X_test, (X_test.shape[0], X_test.shape[1], 1))\n",
    "\n",
    "predicted_stock_price = regressor.predict(X_test)\n",
    "predicted_stock_price = sc.inverse_transform(predicted_stock_price)"
   ]
  },
  {
   "cell_type": "code",
   "execution_count": 11,
   "id": "2ce5742c",
   "metadata": {},
   "outputs": [
    {
     "data": {
      "image/png": "[encoded data removed]",
      "text/plain": [
       "<Figure size 432x288 with 1 Axes>"
      ]
     },
     "metadata": {
      "needs_background": "light"
     },
     "output_type": "display_data"
    }
   ],
   "source": [
    "plt.plot(real_stock_price, color = 'red', label = 'Real Google Stock Price')\n",
    "plt.plot(predicted_stock_price, color = 'blue', label = 'Predicted Google Stock Price')\n",
    "plt.title('Google Stock Price Prediction')\n",
    "plt.xlabel('Time')\n",
    "plt.ylabel('Google Stock Price')\n",
    "plt.legend()\n",
    "plt.show()"
   ]
  }
 ],
 "metadata": {
  "kernelspec": {
   "display_name": "Python 3 (ipykernel)",
   "language": "python",
   "name": "python3"
  },
  "language_info": {
   "codemirror_mode": {
    "name": "ipython",
    "version": 3
   },
   "file_extension": ".py",
   "mimetype": "text/x-python",
   "name": "python",
   "nbconvert_exporter": "python",
   "pygments_lexer": "ipython3",
   "version": "3.9.1"
  }
 },
 "nbformat": 4,
 "nbformat_minor": 5
}
